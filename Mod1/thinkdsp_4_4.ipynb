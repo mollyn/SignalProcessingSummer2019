{
 "cells": [
  {
   "cell_type": "markdown",
   "metadata": {},
   "source": [
    "## ThinkDSP\n",
    "### Exercise 4.4"
   ]
  },
  {
   "cell_type": "markdown",
   "metadata": {},
   "source": [
    "A Geiger counter is a device that detects radiation. When an\n",
    "ionizing particle strikes the detector, it outputs a surge of current. The total\n",
    "output at a point in time can be modeled as uncorrelated Poisson (UP) noise,\n",
    "where each sample is a random quantity from a Poisson distribution, which\n",
    "corresponds to the number of particles detected during an interval.\n",
    "\n",
    "Write a class called UncorrelatedPoissonNoise that inherits from\n",
    "thinkdsp._Noise and provides evaluate. It should use np.random.poisson\n",
    "to generate random values from a Poisson distribution. The parameter of\n",
    "this function, lam, is the average number of particles during each interval.\n",
    "You can use the attribute amp to specify lam. For example, if the frame rate\n",
    "is 10 kHz and amp is 0.001, we expect about 10 “clicks” per second.\n",
    "\n",
    "Generate about a second of UP noise and listen to it. For low values of\n",
    "amp, like 0.001, it should sound like a Geiger counter. For higher values it\n",
    "should sound like white noise. Compute and plot the power spectrum to\n",
    "see whether it looks like white noise."
   ]
  },
  {
   "cell_type": "markdown",
   "metadata": {},
   "source": [
    "#### Imports"
   ]
  },
  {
   "cell_type": "code",
   "execution_count": 71,
   "metadata": {
    "collapsed": true
   },
   "outputs": [],
   "source": [
    "import numpy as np\n",
    "import sys\n",
    "import thinkdsp as dsp\n",
    "from matplotlib import pyplot as plt"
   ]
  },
  {
   "cell_type": "markdown",
   "metadata": {},
   "source": [
    "##### Doing the problem as instructed.\n",
    "\n",
    "I can't get this part to work for some reason - weird things happening with the properties in each class.  Instead, below this I will just try to write the evaluate function."
   ]
  },
  {
   "cell_type": "code",
   "execution_count": 62,
   "metadata": {
    "collapsed": false
   },
   "outputs": [],
   "source": [
    "class UncorrelatedPoissonNoise(dsp._Noise):\n",
    "    \n",
    "    def __init__(self,amp=1.0):\n",
    "#         self.amp=amp\n",
    "#         super(UncorrelatedPoissonNoise.).__init(amp=amp)\n",
    "        return\n",
    "        \n",
    "    def evaluate(lam=0):\n",
    "        # lam = average number of particles during each interval\n",
    "        # set using amp if not specified as input\n",
    "        if lam==0:\n",
    "            lam = self.amp/1e4\n",
    "        # https://docs.scipy.org/doc/numpy/reference/generated/numpy.random.poisson.html\n",
    "        temp = np.random.poisson(lam,100)\n",
    "        return temp"
   ]
  },
  {
   "cell_type": "code",
   "execution_count": 60,
   "metadata": {
    "collapsed": false,
    "scrolled": true
   },
   "outputs": [
    {
     "ename": "TypeError",
     "evalue": "evaluate() takes at most 1 argument (2 given)",
     "output_type": "error",
     "traceback": [
      "\u001b[1;31m---------------------------------------------------------------------------\u001b[0m",
      "\u001b[1;31mTypeError\u001b[0m                                 Traceback (most recent call last)",
      "\u001b[1;32m<ipython-input-60-a68cc7637602>\u001b[0m in \u001b[0;36m<module>\u001b[1;34m()\u001b[0m\n\u001b[0;32m      1\u001b[0m \u001b[0mup\u001b[0m \u001b[1;33m=\u001b[0m \u001b[0mUncorrelatedPoissonNoise\u001b[0m\u001b[1;33m(\u001b[0m\u001b[0mamp\u001b[0m\u001b[1;33m=\u001b[0m\u001b[1;36m1\u001b[0m\u001b[1;33m)\u001b[0m\u001b[1;33m\u001b[0m\u001b[0m\n\u001b[1;32m----> 2\u001b[1;33m \u001b[0mup\u001b[0m\u001b[1;33m.\u001b[0m\u001b[0mevaluate\u001b[0m\u001b[1;33m(\u001b[0m\u001b[1;36m10\u001b[0m\u001b[1;33m)\u001b[0m\u001b[1;33m\u001b[0m\u001b[0m\n\u001b[0m",
      "\u001b[1;31mTypeError\u001b[0m: evaluate() takes at most 1 argument (2 given)"
     ]
    }
   ],
   "source": [
    "up = UncorrelatedPoissonNoise(amp=1)\n",
    "\n",
    "up.evaluate(10)"
   ]
  },
  {
   "cell_type": "code",
   "execution_count": 72,
   "metadata": {
    "collapsed": false
   },
   "outputs": [],
   "source": [
    "def evaluate(lam,numsamples=100):\n",
    "    # https://docs.scipy.org/doc/numpy/reference/generated/numpy.random.poisson.html\n",
    "    poissonRandValues = np.random.poisson(lam=lam,size=numsamples)\n",
    "    return poissonRandValues    "
   ]
  },
  {
   "cell_type": "code",
   "execution_count": 95,
   "metadata": {
    "collapsed": false
   },
   "outputs": [],
   "source": [
    "lowLam = 1\n",
    "highLam = 100\n",
    "numSamples = 100\n",
    "\n",
    "low = evaluate(lowLam,numSamples)\n",
    "high = evaluate(highLam,numSamples)"
   ]
  },
  {
   "cell_type": "code",
   "execution_count": 98,
   "metadata": {
    "collapsed": false
   },
   "outputs": [],
   "source": [
    "plt.plot(range(numSamples),low)\n",
    "plt.title('Geiger')\n",
    "plt.show()\n",
    "\n",
    "plt.plot(range(numSamples),high)\n",
    "plt.title('white noise')\n",
    "plt.show()"
   ]
  },
  {
   "cell_type": "code",
   "execution_count": null,
   "metadata": {
    "collapsed": true
   },
   "outputs": [],
   "source": []
  }
 ],
 "metadata": {
  "kernelspec": {
   "display_name": "Python [Root]",
   "language": "python",
   "name": "Python [Root]"
  },
  "language_info": {
   "codemirror_mode": {
    "name": "ipython",
    "version": 2
   },
   "file_extension": ".py",
   "mimetype": "text/x-python",
   "name": "python",
   "nbconvert_exporter": "python",
   "pygments_lexer": "ipython2",
   "version": "2.7.12"
  }
 },
 "nbformat": 4,
 "nbformat_minor": 0
}
